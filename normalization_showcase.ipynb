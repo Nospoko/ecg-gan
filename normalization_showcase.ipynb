{
 "cells": [
  {
   "cell_type": "code",
   "execution_count": 38,
   "metadata": {},
   "outputs": [
    {
     "name": "stderr",
     "output_type": "stream",
     "text": [
      "Found cached dataset parquet (C:/Users/samue/.cache/huggingface/datasets/roszcz___parquet/roszcz--maestro-v1-sustain-5350ada51983a2ef/0.0.0/14a00e99c0d15a23649d0db8944380ac81082d4b021f398733dd84f3a6c569a7)\n"
     ]
    },
    {
     "data": {
      "application/vnd.jupyter.widget-view+json": {
       "model_id": "632095abc029452cbdf58d5c935829f8",
       "version_major": 2,
       "version_minor": 0
      },
      "text/plain": [
       "  0%|          | 0/3 [00:00<?, ?it/s]"
      ]
     },
     "metadata": {},
     "output_type": "display_data"
    }
   ],
   "source": [
    "import numpy as np\n",
    "import matplotlib.pyplot as plt\n",
    "\n",
    "from datasets import load_dataset\n",
    "\n",
    "data = load_dataset(\"roszcz/maestro-v1-sustain\")\n"
   ]
  },
  {
   "cell_type": "code",
   "execution_count": 39,
   "metadata": {},
   "outputs": [],
   "source": [
    "records = data['train']['notes']\n",
    "records_test = data['test']['notes']\n",
    "records_valid = data['validation']['notes']\n"
   ]
  },
  {
   "cell_type": "code",
   "execution_count": 40,
   "metadata": {},
   "outputs": [],
   "source": [
    "duration = []\n",
    "start = []\n",
    "for record in records:\n",
    "    duration.extend(record['duration'])\n",
    "    start.extend(record['start'])\n",
    "for record in records_test:\n",
    "    duration.extend(record['duration'])\n",
    "    start.extend(record['start'])\n",
    "for record in records_valid:\n",
    "    duration.extend(record['duration'])\n",
    "    start.extend(record['start'])\n",
    "\n",
    "duration = np.array(duration)\n",
    "start = np.array(start)"
   ]
  },
  {
   "cell_type": "code",
   "execution_count": 41,
   "metadata": {},
   "outputs": [
    {
     "name": "stdout",
     "output_type": "stream",
     "text": [
      "data length: 7040164\n",
      "==========duration============start===\n",
      "mean: 0.5103514354018718 457.401534944046\n",
      "std: 0.8999690621324086 439.56806351877\n",
      "max: 99.45833333333331 2624.5807291666665\n",
      "min: 0.0010416666666515084 0.006510416666666666\n"
     ]
    },
    {
     "data": {
      "image/png": "[encoded data removed]",
      "text/plain": [
       "<Figure size 432x288 with 1 Axes>"
      ]
     },
     "metadata": {
      "needs_background": "light"
     },
     "output_type": "display_data"
    }
   ],
   "source": [
    "print(\"data length:\" , len(duration))\n",
    "print(\"==========duration============start===\")\n",
    "print(\"mean:\" , np.mean(duration), np.mean(start))\n",
    "print(\"std:\" , np.std(duration), np.std(start))\n",
    "print(\"max:\" , np.max(duration), np.max(start))\n",
    "print(\"min:\" , np.min(duration), np.min(start))\n",
    "plt.hist(duration, bins=10)\n",
    "plt.show()"
   ]
  },
  {
   "cell_type": "markdown",
   "metadata": {},
   "source": [
    "As the data is too skewed, normalizing it with min-max scalar would mean loosing a lot of space for useless information."
   ]
  },
  {
   "cell_type": "code",
   "execution_count": 42,
   "metadata": {},
   "outputs": [
    {
     "name": "stdout",
     "output_type": "stream",
     "text": [
      "==========min_max_scaled============\n",
      "mean: 0.005120889179671044\n",
      "std: 0.009048799208696284\n",
      "max: 1.0\n",
      "min: 0.0\n"
     ]
    },
    {
     "data": {
      "image/png": "[encoded data removed]",
      "text/plain": [
       "<Figure size 432x288 with 1 Axes>"
      ]
     },
     "metadata": {
      "needs_background": "light"
     },
     "output_type": "display_data"
    }
   ],
   "source": [
    "min_max_scaled = (duration - np.min(duration)) / (np.max(duration) - np.min(duration))\n",
    "print(\"==========min_max_scaled============\")\n",
    "print(\"mean:\" , np.mean(min_max_scaled))\n",
    "print(\"std:\" , np.std(min_max_scaled))\n",
    "print(\"max:\" , np.max(min_max_scaled))\n",
    "print(\"min:\" , np.min(min_max_scaled))\n",
    "# Focus on duration since we are calculating dstart from start.\n",
    "plt.hist(min_max_scaled, bins=10)\n",
    "plt.show()"
   ]
  },
  {
   "cell_type": "code",
   "execution_count": 43,
   "metadata": {},
   "outputs": [],
   "source": [
    "\n",
    "log_duration = np.log(1+duration)"
   ]
  },
  {
   "cell_type": "code",
   "execution_count": 45,
   "metadata": {},
   "outputs": [
    {
     "name": "stdout",
     "output_type": "stream",
     "text": [
      "==========log_scaled============\n",
      "mean: 0.3381930889556512\n",
      "std: 0.3345536351017544\n",
      "max: 4.609743047833225\n",
      "min: 0.001041124508395427\n"
     ]
    },
    {
     "data": {
      "image/png": "[encoded data removed]",
      "text/plain": [
       "<Figure size 432x288 with 1 Axes>"
      ]
     },
     "metadata": {
      "needs_background": "light"
     },
     "output_type": "display_data"
    }
   ],
   "source": [
    "print(\"==========log_scaled============\")\n",
    "print(\"mean:\" , np.mean(log_duration))\n",
    "print(\"std:\" , np.std(log_duration))\n",
    "print(\"max:\" , np.max(log_duration))\n",
    "print(\"min:\" , np.min(log_duration))\n",
    "\n",
    "plt.hist(log_duration, bins=10)\n",
    "plt.show()"
   ]
  },
  {
   "cell_type": "markdown",
   "metadata": {},
   "source": [
    "Using log scaling, we reduced the skewness ~10 times, we can now apply min-max scalar to normalize the data further and fit into the [0, 1] range."
   ]
  },
  {
   "cell_type": "code",
   "execution_count": 46,
   "metadata": {},
   "outputs": [],
   "source": [
    "log_min_max_scaled = (log_duration - np.min(log_duration)) / (np.max(log_duration) - np.min(log_duration))"
   ]
  },
  {
   "cell_type": "code",
   "execution_count": 47,
   "metadata": {},
   "outputs": [
    {
     "name": "stdout",
     "output_type": "stream",
     "text": [
      "==========log_min_max_scaled============\n",
      "mean: 0.07315551538295742\n",
      "std: 0.07259172770722372\n",
      "max: 1.0\n",
      "min: 0.0\n"
     ]
    },
    {
     "data": {
      "image/png": "[encoded data removed]",
      "text/plain": [
       "<Figure size 432x288 with 1 Axes>"
      ]
     },
     "metadata": {
      "needs_background": "light"
     },
     "output_type": "display_data"
    }
   ],
   "source": [
    "print(\"==========log_min_max_scaled============\")\n",
    "print(\"mean:\" , np.mean(log_min_max_scaled))\n",
    "print(\"std:\" , np.std(log_min_max_scaled))\n",
    "print(\"max:\" , np.max(log_min_max_scaled))\n",
    "print(\"min:\" , np.min(log_min_max_scaled))\n",
    "plt.hist(log_min_max_scaled, bins=10)\n",
    "plt.show()"
   ]
  },
  {
   "cell_type": "markdown",
   "metadata": {},
   "source": [
    "While the data is still skewed to the left, the range of values is now much higher inside the [0, 1] range.\n",
    "\n",
    "Denormalizing is as simple as running below function on the data:"
   ]
  },
  {
   "cell_type": "code",
   "execution_count": 52,
   "metadata": {},
   "outputs": [],
   "source": [
    "def denormalize(data, min, max):\n",
    "    min_max = data * (max - min) + min\n",
    "    # denormalize the log scaling\n",
    "    return np.exp(min_max) - 1"
   ]
  },
  {
   "cell_type": "code",
   "execution_count": 50,
   "metadata": {},
   "outputs": [],
   "source": [
    "denormalized = denormalize(log_min_max_scaled, np.min(log_duration), np.max(log_duration))"
   ]
  },
  {
   "cell_type": "code",
   "execution_count": 51,
   "metadata": {},
   "outputs": [
    {
     "name": "stdout",
     "output_type": "stream",
     "text": [
      "==========denormalized============\n",
      "mean: 0.5103514354018718\n",
      "std: 0.8999690621324086\n",
      "max: 99.45833333333331\n",
      "min: 0.0010416666666515084\n"
     ]
    },
    {
     "data": {
      "image/png": "[encoded data removed]",
      "text/plain": [
       "<Figure size 432x288 with 1 Axes>"
      ]
     },
     "metadata": {
      "needs_background": "light"
     },
     "output_type": "display_data"
    }
   ],
   "source": [
    "print(\"==========denormalized============\")\n",
    "print(\"mean:\" , np.mean(denormalized))\n",
    "print(\"std:\" , np.std(denormalized))\n",
    "print(\"max:\" , np.max(denormalized))\n",
    "print(\"min:\" , np.min(denormalized))\n",
    "plt.hist(denormalized, bins=10)\n",
    "plt.show()"
   ]
  }
 ],
 "metadata": {
  "kernelspec": {
   "display_name": "Python 3",
   "language": "python",
   "name": "python3"
  },
  "language_info": {
   "codemirror_mode": {
    "name": "ipython",
    "version": 3
   },
   "file_extension": ".py",
   "mimetype": "text/x-python",
   "name": "python",
   "nbconvert_exporter": "python",
   "pygments_lexer": "ipython3",
   "version": "3.10.0"
  },
  "orig_nbformat": 4
 },
 "nbformat": 4,
 "nbformat_minor": 2
}
